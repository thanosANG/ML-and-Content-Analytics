{
 "cells": [
  {
   "cell_type": "code",
   "execution_count": null,
   "id": "72d9fb9e",
   "metadata": {},
   "outputs": [],
   "source": [
    "#PREPARE DATASET\n",
    "\n",
    "import pandas as pd\n",
    "import numpy as np\n",
    "\n",
    "### MOBILE DATA ###\n",
    "\n",
    "selected_cols =['product_id','star_rating','helpful_votes','total_votes','review_headline','review_body']\n",
    "# Read TSV file into DataFrame\n",
    "df = pd.read_csv('amazon_reviews_us_Mobile_Electronics_v1_00.tsv', sep='\\t', on_bad_lines='skip',usecols=selected_cols) \n",
    "df = df.loc[(df.helpful_votes > df.total_votes / 2) & (df.helpful_votes > 1)]\n",
    "df=df.reset_index(drop=True)\n",
    "#PREPROCESS\n",
    "pred_texts = df['review_body'].dropna().astype('str').tolist()\n"
   ]
  },
  {
   "cell_type": "code",
   "execution_count": null,
   "id": "5f5b9533",
   "metadata": {},
   "outputs": [],
   "source": [
    "### AUTOMOTIVE DATA ###\n",
    "import pandas as pd\n",
    "import numpy as np\n",
    "\n",
    "selected_cols =['product_id','star_rating','helpful_votes','total_votes','review_body']\n",
    "# Read TSV file into DataFrame\n",
    "df = pd.read_csv('amazon_reviews_us_Automotive_v1_00.tsv', sep='\\t', on_bad_lines='skip',usecols=selected_cols) \n",
    "df = df.loc[(df.helpful_votes > df.total_votes / 2) & (df.helpful_votes > 1)]\n",
    "df=df.reset_index(drop=True)\n",
    "#PREPROCESS\n",
    "pred_texts = df['review_body'].dropna().astype('str').tolist()\n"
   ]
  },
  {
   "cell_type": "code",
   "execution_count": null,
   "id": "620f42a2",
   "metadata": {},
   "outputs": [],
   "source": [
    "import openai\n",
    "openai.api_key = 'key'"
   ]
  },
  {
   "cell_type": "code",
   "execution_count": null,
   "id": "27eb0272",
   "metadata": {},
   "outputs": [],
   "source": [
    "#CREATE SUMMARIES WITH GTP 3.5 TURBO\n",
    "# reviews: contains the review we want to summarize\n",
    "reviews= pred_texts[500:700]\n",
    "summaries=[]\n",
    "for review in reviews:\n",
    "    \n",
    "    prompt=review\n",
    "    person_type = \"user\"\n",
    "    response=openai.ChatCompletion.create(\n",
    "        model=\"gpt-3.5-turbo\",\n",
    "        max_tokens=100,\n",
    "        temperature=0.95,\n",
    "\n",
    "        messages=[\n",
    "            {\n",
    "              \"role\": \"system\",\n",
    "              \"content\": \"\"\"You are a helpful assistant for text summarization. Provide a clear and concise response that summarizes the key points and information presented, in up to 100 words. Focus mostly on the characteristics of the product, either positive or negative. \n",
    "                            Summarize only based on what is provided. If you cannot summarize the review say 'Unable to summarize '\"\"\",\n",
    "            },\n",
    "            {\n",
    "              \"role\": \"assistant\",\n",
    "              \"content\": f\"Summarize this for a {person_type}: {prompt}\",\n",
    "            },\n",
    "        ],\n",
    "    )\n",
    "    summaries.append(response[\"choices\"][0][\"message\"][\"content\"])"
   ]
  },
  {
   "cell_type": "code",
   "execution_count": null,
   "id": "44cbd05a",
   "metadata": {},
   "outputs": [],
   "source": [
    "#Write created summaries to txt\n",
    "\n",
    "with open(r'Mobile_Electronics_summaries.txt', 'a') as fp:\n",
    "    fp.write('\\n'.join(summaries))"
   ]
  },
  {
   "cell_type": "code",
   "execution_count": null,
   "id": "30fb2eb2",
   "metadata": {},
   "outputs": [],
   "source": [
    "# #Count lines in txt\n",
    "# with open(r\"Mobile_Electronics_summaries.txt\", 'r') as fp:\n",
    "#     for count, line in enumerate(fp):\n",
    "#         pass\n",
    "# print('Total Lines', count + 1)"
   ]
  }
 ],
 "metadata": {
  "kernelspec": {
   "display_name": "Python (torch_gpu)",
   "language": "python",
   "name": "torch_gpu"
  },
  "language_info": {
   "codemirror_mode": {
    "name": "ipython",
    "version": 3
   },
   "file_extension": ".py",
   "mimetype": "text/x-python",
   "name": "python",
   "nbconvert_exporter": "python",
   "pygments_lexer": "ipython3",
   "version": "3.11.4"
  }
 },
 "nbformat": 4,
 "nbformat_minor": 5
}
